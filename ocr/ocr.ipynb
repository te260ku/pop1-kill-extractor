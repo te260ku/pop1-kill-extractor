{
 "cells": [
  {
   "cell_type": "code",
   "execution_count": 1,
   "metadata": {},
   "outputs": [],
   "source": [
    "import pytesseract\n",
    "from PIL import Image\n",
    "import cv2\n",
    "import matplotlib.pyplot as plt\n",
    "import numpy as np\n",
    "import time\n",
    "from IPython.display import display, Image, clear_output\n",
    "from tqdm import tqdm"
   ]
  },
  {
   "cell_type": "code",
   "execution_count": 2,
   "metadata": {},
   "outputs": [],
   "source": [
    "# ign = \"Tetsuro\"\n",
    "ign = \"kkaNbu\""
   ]
  },
  {
   "cell_type": "code",
   "execution_count": 91,
   "metadata": {},
   "outputs": [],
   "source": [
    "def imshow(img):\n",
    "    _, buf = cv2.imencode(\".jpg\", img)\n",
    "    display(Image(data=buf.tobytes()))\n",
    "    clear_output(wait=True)"
   ]
  },
  {
   "cell_type": "code",
   "execution_count": 3,
   "metadata": {},
   "outputs": [],
   "source": [
    "def proc(img_raw):\n",
    "    height = img_raw.shape[0]\n",
    "    width = img_raw.shape[1]\n",
    "\n",
    "    height, width, channels = img_raw.shape[:3]\n",
    "    img = img_raw[int(height*0.5):int(height*1.0), int(width*0.3):int(width*0.7)]\n",
    "    hsv = cv2.cvtColor(img, cv2.COLOR_BGR2HSV)\n",
    "\n",
    "    hsv_min = np.array([90,10,150])\n",
    "    hsv_max = np.array([120,255,255])\n",
    "\n",
    "    mask = cv2.inRange(hsv, hsv_min, hsv_max)\n",
    "    dst1 = cv2.bitwise_and(img, img, mask=mask)\n",
    "\n",
    "    plt.imshow(dst1)    \n",
    "\n",
    "    str_img = dst1\n",
    "    str_data = pytesseract.image_to_string(str_img)\n",
    "    return str_data"
   ]
  },
  {
   "cell_type": "code",
   "execution_count": null,
   "metadata": {},
   "outputs": [],
   "source": [
    "img = cv2.imread('test_full_2.png')  \n",
    "result = proc(img)\n",
    "print(result)\n",
    "print(ign in result)"
   ]
  },
  {
   "cell_type": "code",
   "execution_count": 4,
   "metadata": {},
   "outputs": [
    {
     "name": "stdout",
     "output_type": "stream",
     "text": [
      "329\n"
     ]
    },
    {
     "name": "stderr",
     "output_type": "stream",
     "text": [
      "Processing Frames:  92%|█████████▏| 304/329 [00:03<00:00, 84.60it/s] \n"
     ]
    },
    {
     "name": "stdout",
     "output_type": "stream",
     "text": [
      "detected count = 0\n"
     ]
    },
    {
     "data": {
      "image/png": "[encoded data removed]",
      "text/plain": [
       "<Figure size 432x288 with 1 Axes>"
      ]
     },
     "metadata": {
      "needs_background": "light"
     },
     "output_type": "display_data"
    }
   ],
   "source": [
    "# 設定に関わる変数\n",
    "ign = \"kkaNbu\"\n",
    "frame_freq = 1.0\n",
    "\n",
    "# 変数の初期化\n",
    "frame_count = 0\n",
    "detected_count = 0\n",
    "\n",
    "cap = cv2.VideoCapture(\"./kanbu_2.mp4\")\n",
    "# フレームレートを取得\n",
    "fps = cap.get(cv2.CAP_PROP_FPS)\n",
    "# 総フレーム数を取得\n",
    "total_frames = int(cap.get(cv2.CAP_PROP_FRAME_COUNT))\n",
    "print(total_frames)\n",
    "\n",
    "progress_bar = tqdm(total=total_frames, desc=\"Processing Frames\")\n",
    "\n",
    "while True:\n",
    "    try:\n",
    "        # フレームの読み込み\n",
    "        ret, frame = cap.read()\n",
    "        # フレームが読み込めなくなったら終了\n",
    "        if not ret:\n",
    "            break\n",
    "\n",
    "        current_time_ms = cap.get(cv2.CAP_PROP_POS_MSEC)\n",
    "\n",
    "        # 指定した時間ごとにフレームを抽出\n",
    "        if frame_count % int(fps*frame_freq) == 0:\n",
    "            current_time_sec = current_time_ms / 1000\n",
    "            # print(f\"フレーム {frame_count // int(fps)}: 現在の再生時間 {current_time_sec}秒\")\n",
    "            result = proc(frame)\n",
    "            if (ign in result):\n",
    "                # print(\"detected\")\n",
    "                minutes, seconds = divmod(current_time_sec, 60)\n",
    "                print(f\"フレーム {frame_count // int(fps)}: 現在の再生時間 {int(minutes)}分 {seconds:.2f}秒\")\n",
    "                detected_count += 1\n",
    "                detected = True\n",
    "                new_frame_pos = int(cap.get(cv2.CAP_PROP_POS_FRAMES) + fps * 10)\n",
    "                if new_frame_pos <= total_frames:\n",
    "                    cap.set(cv2.CAP_PROP_POS_FRAMES, new_frame_pos)\n",
    "                \n",
    "        frame_count += 1\n",
    "        progress_bar.update(1)\n",
    "\n",
    "    except KeyboardInterrupt:\n",
    "        break\n",
    "\n",
    "cap.release()\n",
    "progress_bar.close()\n",
    "\n",
    "print(\"detected count = \" + str(detected_count))"
   ]
  },
  {
   "cell_type": "code",
   "execution_count": null,
   "metadata": {},
   "outputs": [],
   "source": [
    "\n"
   ]
  }
 ],
 "metadata": {
  "kernelspec": {
   "display_name": "Python 3",
   "language": "python",
   "name": "python3"
  },
  "language_info": {
   "codemirror_mode": {
    "name": "ipython",
    "version": 3
   },
   "file_extension": ".py",
   "mimetype": "text/x-python",
   "name": "python",
   "nbconvert_exporter": "python",
   "pygments_lexer": "ipython3",
   "version": "3.9.12"
  }
 },
 "nbformat": 4,
 "nbformat_minor": 2
}
