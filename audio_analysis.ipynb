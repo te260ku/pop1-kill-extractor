{
 "cells": [
  {
   "cell_type": "code",
   "execution_count": 1,
   "metadata": {},
   "outputs": [],
   "source": [
    "import numpy as np\n",
    "import matplotlib.pyplot as plt\n",
    "import seaborn as sns\n",
    "import librosa\n",
    "import wave\n",
    "import ffmpeg\n",
    "\n",
    "sns.set()\n",
    "%matplotlib inline\n",
    "from matplotlib import rcParams\n",
    "rcParams['font.family'] = 'sans-serif'\n",
    "rcParams['font.sans-serif'] = ['Hiragino Maru Gothic Pro', 'Yu Gothic', 'Meirio', 'Takao', 'IPAexGothic', 'IPAPGothic', 'VL PGothic', 'Noto Sans CJK JP']"
   ]
  },
  {
   "cell_type": "code",
   "execution_count": null,
   "metadata": {},
   "outputs": [],
   "source": [
    "def remove_close_values(arr):\n",
    "    min_value = min(arr)  # 配列内の最小値を取得\n",
    "\n",
    "    # 近い値を削除\n",
    "    filtered_arr = [min_value]\n",
    "    for num in arr:\n",
    "        if abs(num - min_value) > 1:  # 1以内の範囲外の値を残す\n",
    "            filtered_arr.append(num)\n",
    "\n",
    "    return filtered_arr"
   ]
  },
  {
   "cell_type": "code",
   "execution_count": 6,
   "metadata": {},
   "outputs": [
    {
     "name": "stdout",
     "output_type": "stream",
     "text": [
      "944.6049, 5.205354166666667 : 5.731145833333334\n",
      "1185.677, 5.205375 : 5.731166666666667\n",
      "944.57996, 5.205395833333333 : 5.7311875\n",
      "957.6993, 82.645375 : 83.17116666666666\n"
     ]
    },
    {
     "data": {
      "text/plain": [
       "[5.205354166666667, 82.645375]"
      ]
     },
     "execution_count": 6,
     "metadata": {},
     "output_type": "execute_result"
    }
   ],
   "source": [
    "stream = ffmpeg.input(\"./videos/audio_full.mp4\") \n",
    "\n",
    "stream = ffmpeg.output(stream, \"./test/output2.wav\") \n",
    "\n",
    "ffmpeg.run(stream, overwrite_output=True)\n",
    "\n",
    "\n",
    "\n",
    "\n",
    "audio_path_a = './test/output2.wav'\n",
    "audio_path_b = './videos/kill_audio_test_trim.wav'\n",
    "\n",
    "\n",
    "\n",
    "# 音声データAの読み込み\n",
    "audio_a, sr_a = librosa.load(audio_path_a, sr=None)\n",
    "\n",
    "# 音声データBの読み込み\n",
    "audio_b, sr_b = librosa.load(audio_path_b, sr=None)\n",
    "\n",
    "# 音声データBの長さ\n",
    "len_b = len(audio_b)\n",
    "\n",
    "# 音声データAと音声データBの相互相関を計算\n",
    "correlation = np.correlate(audio_a, audio_b, mode='valid')\n",
    "\n",
    "# 相互相関が最大となる位置を検出\n",
    "max_index = np.argmax(correlation)\n",
    "\n",
    "# sorted_arr = sorted(correlation, reverse=True)\n",
    "max_indexes = [index for index, element in enumerate(correlation) if element > 850]\n",
    "\n",
    "cors = [element for index, element in enumerate(correlation) if element > 600]\n",
    "\n",
    "start_times = []\n",
    "\n",
    "\n",
    "for idx in max_indexes:\n",
    "    # 音声データBが出現する開始時間を計算（サンプル数から秒単位に変換）\n",
    "    start_time = idx / sr_a\n",
    "    # 音声データBが出現する終了時間を計算（開始時間に音声データBの長さを加算）\n",
    "    end_time = start_time + (len_b / sr_a)\n",
    "    print(str(correlation[idx]) + ', ' + str(start_time) + ' : ' + str(end_time))\n",
    "    start_times.append(start_time)\n",
    "\n",
    "start_times_new = remove_close_values(start_times)\n",
    "start_times_new\n"
   ]
  },
  {
   "cell_type": "code",
   "execution_count": 7,
   "metadata": {},
   "outputs": [
    {
     "data": {
      "text/plain": [
       "(array([30., 18., 18., 14.,  6.,  6., 14.,  4., 10.,  2.,  2.,  0.,  0.,\n",
       "         0.,  0.,  0.,  0.,  3.,  0.,  0.,  0.,  0.,  0.,  0.,  0.,  0.,\n",
       "         0.,  0.,  0.,  1.]),\n",
       " array([ 600.,  620.,  640.,  660.,  680.,  700.,  720.,  740.,  760.,\n",
       "         780.,  800.,  820.,  840.,  860.,  880.,  900.,  920.,  940.,\n",
       "         960.,  980., 1000., 1020., 1040., 1060., 1080., 1100., 1120.,\n",
       "        1140., 1160., 1180., 1200.], dtype=float32),\n",
       " <BarContainer object of 30 artists>)"
      ]
     },
     "execution_count": 7,
     "metadata": {},
     "output_type": "execute_result"
    },
    {
     "data": {
      "image/png": "[encoded data removed]",
      "text/plain": [
       "<Figure size 864x576 with 1 Axes>"
      ]
     },
     "metadata": {},
     "output_type": "display_data"
    }
   ],
   "source": [
    "fig = plt.figure(figsize=(12, 8), facecolor='w', linewidth=0, edgecolor='w')\n",
    "plt.hist(cors, bins=30, range=(600, 1200))"
   ]
  },
  {
   "cell_type": "code",
   "execution_count": 56,
   "metadata": {},
   "outputs": [
    {
     "name": "stdout",
     "output_type": "stream",
     "text": [
      "6943083\n",
      "944.6054, 5.2250625 : 5.750854166666667\n",
      "1185.677, 5.225083333333333 : 5.750875\n",
      "944.5805, 5.225104166666667 : 5.750895833333334\n",
      "957.69916, 82.66508333333333 : 83.19087499999999\n"
     ]
    }
   ],
   "source": [
    "audio_path_a = './videos/audio_full.wav'\n",
    "audio_path_b = './videos/kill_audio_test_trim.wav'\n",
    "\n",
    "detect_audio_match(audio_path_a, audio_path_b)"
   ]
  },
  {
   "cell_type": "code",
   "execution_count": 35,
   "metadata": {},
   "outputs": [],
   "source": [
    "start_times = [30, 96, 255, 278, 338, 358, 469, 610, 649, 657, 695, 907, 1042, 1166]"
   ]
  },
  {
   "cell_type": "code",
   "execution_count": 42,
   "metadata": {},
   "outputs": [],
   "source": [
    "\n",
    "\n",
    "def trim_wav_segment(input_file, output_file, start_time, end_time):\n",
    "    # 入力ファイルをオープン\n",
    "    with wave.open(input_file, 'rb') as wav_in:\n",
    "        # 出力ファイルを作成\n",
    "        with wave.open(output_file, 'wb') as wav_out:\n",
    "            # 入力ファイルのパラメータを取得\n",
    "            channels = wav_in.getnchannels()\n",
    "            sample_width = wav_in.getsampwidth()\n",
    "            frame_rate = wav_in.getframerate()\n",
    "            total_frames = wav_in.getnframes()\n",
    "\n",
    "            # 開始位置と終了位置をフレーム単位に変換\n",
    "            start_frame = int(start_time * frame_rate)\n",
    "            end_frame = int(end_time * frame_rate)\n",
    "\n",
    "            # 出力ファイルのパラメータを設定\n",
    "            wav_out.setnchannels(channels)\n",
    "            wav_out.setsampwidth(sample_width)\n",
    "            wav_out.setframerate(frame_rate)\n",
    "\n",
    "            # 指定した範囲のデータを書き込む\n",
    "            wav_in.setpos(start_frame)\n",
    "            frames_to_write = end_frame - start_frame\n",
    "            wav_out.writeframes(wav_in.readframes(frames_to_write))\n",
    "\n",
    "# 使用例\n",
    "count = 0\n",
    "for start_time in start_times:\n",
    "    trim_wav_segment('./videos/test_full_2.wav', './test/output_' + str(count) + '.wav', start_time, start_time+1)\n",
    "    count += 1\n"
   ]
  },
  {
   "cell_type": "code",
   "execution_count": null,
   "metadata": {},
   "outputs": [],
   "source": []
  }
 ],
 "metadata": {
  "kernelspec": {
   "display_name": "Python 3",
   "language": "python",
   "name": "python3"
  },
  "language_info": {
   "codemirror_mode": {
    "name": "ipython",
    "version": 3
   },
   "file_extension": ".py",
   "mimetype": "text/x-python",
   "name": "python",
   "nbconvert_exporter": "python",
   "pygments_lexer": "ipython3",
   "version": "3.9.12"
  },
  "orig_nbformat": 4
 },
 "nbformat": 4,
 "nbformat_minor": 2
}
