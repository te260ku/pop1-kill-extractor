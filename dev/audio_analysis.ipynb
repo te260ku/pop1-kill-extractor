{
 "cells": [
  {
   "cell_type": "code",
   "execution_count": 1,
   "metadata": {},
   "outputs": [],
   "source": [
    "import numpy as np\n",
    "import matplotlib.pyplot as plt\n",
    "import seaborn as sns\n",
    "import librosa\n",
    "import wave\n",
    "import ffmpeg\n",
    "import scipy.signal\n",
    "import time\n",
    "\n",
    "sns.set()\n",
    "%matplotlib inline\n",
    "from matplotlib import rcParams\n",
    "rcParams['font.family'] = 'sans-serif'\n",
    "rcParams['font.sans-serif'] = ['Hiragino Maru Gothic Pro', 'Yu Gothic', 'Meirio', 'Takao', 'IPAexGothic', 'IPAPGothic', 'VL PGothic', 'Noto Sans CJK JP']"
   ]
  },
  {
   "cell_type": "code",
   "execution_count": 2,
   "metadata": {},
   "outputs": [],
   "source": [
    "def remove_close_values(arr):\n",
    "    min_value = min(arr)  # 配列内の最小値を取得\n",
    "\n",
    "    # 近い値を削除\n",
    "    filtered_arr = [min_value]\n",
    "    for num in arr:\n",
    "        if abs(num - min_value) > 1:  # 1以内の範囲外の値を残す\n",
    "            filtered_arr.append(num)\n",
    "\n",
    "    return filtered_arr"
   ]
  },
  {
   "cell_type": "code",
   "execution_count": 18,
   "metadata": {},
   "outputs": [],
   "source": [
    "def find_two_largest_numbers(arr):\n",
    "    arr = np.array(arr)  # リストをNumPy配列に変換\n",
    "    sorted_indices = np.argsort(arr)[::-1]  # 値を基準に配列を大きい順にソートしたインデックスを取得\n",
    "    result = []\n",
    "    count = 0\n",
    "    i = 0\n",
    "    while count < 10 and i < len(sorted_indices):\n",
    "        current_index = sorted_indices[i]\n",
    "        if any(abs(current_index - index) <= 100000 for index in result):\n",
    "            i += 1\n",
    "            continue\n",
    "        result.append(current_index)\n",
    "        count += 1\n",
    "        i += 1\n",
    "    return np.array(result)"
   ]
  },
  {
   "cell_type": "code",
   "execution_count": 4,
   "metadata": {},
   "outputs": [],
   "source": [
    "def start_t():\n",
    "    global start_time\n",
    "    start_time = time.time()\n",
    "\n",
    "def end_t():\n",
    "    if \"start_time\" in globals():\n",
    "        end_time = time.time() - start_time\n",
    "        print(\"{:.9f} [sec]\".format(end_time))\n",
    "        return end_time\n",
    "    else:\n",
    "        print(\"start関数が呼ばれていない\")"
   ]
  },
  {
   "cell_type": "code",
   "execution_count": 20,
   "metadata": {},
   "outputs": [
    {
     "name": "stdout",
     "output_type": "stream",
     "text": [
      "5.939233065 [sec]\n"
     ]
    }
   ],
   "source": [
    "wav_file_name = './test/kitasota_2.wav'\n",
    "\n",
    "# stream = ffmpeg.input(\"./videos/kitasota_2_short_2.mp4\") \n",
    "# stream = ffmpeg.output(stream, wav_file_name) \n",
    "# ffmpeg.run(stream, overwrite_output=True)\n",
    "\n",
    "\n",
    "audio_path_a = wav_file_name\n",
    "audio_path_b = './videos/kill_audio_test_trim.wav'\n",
    "\n",
    "\n",
    "start_t()\n",
    "# 音声データAの読み込み\n",
    "audio_a, sr_a = librosa.load(audio_path_a, sr=None)\n",
    "\n",
    "# 音声データBの読み込み\n",
    "audio_b, sr_b = librosa.load(audio_path_b, sr=None)\n",
    "end_t()\n",
    "\n",
    "\n",
    "# 音声データBの長さ\n",
    "len_a = len(audio_a)\n",
    "len_b = len(audio_b)\n",
    "\n",
    "# 最初の10000フレームだけを計算する\n",
    "# print(len(audio_a))\n",
    "# print(len_b)\n",
    "\n",
    "# start_t()\n",
    "# correlation = scipy.signal.correlate(audio_a[:100000], audio_b, mode='valid', method='fft')\n",
    "# end_time = end_t()\n",
    "# print(end_time * len(audio_a)/100000)\n",
    "\n",
    "\n",
    "# 音声データAと音声データBの相互相関を計算\n",
    "# correlation = np.correlate(audio_a, audio_b, mode='valid')\n",
    "correlation = scipy.signal.correlate(audio_a, audio_b, mode='valid', method='direct')\n",
    "\n",
    "# top_10_indices = np.argsort(correlation)[::-1][:10]\n",
    "# print(np.array(top_10_indices) / sr_a)\n",
    "# print(correlation[top_10_indices])\n",
    "# print(np.argmax(correlation) / sr_a)\n",
    "# print(np.max(correlation))\n",
    "\n",
    "result = find_two_largest_numbers(correlation)\n",
    "print(result)\n",
    "print(result/sr_a)\n",
    "\n",
    "max_indexes = np.where(correlation > 850)[0]\n",
    "\n",
    "# cors = [element for index, element in enumerate(correlation) if element > 600]\n",
    "\n",
    "start_times = []\n",
    "\n",
    "\n",
    "for idx in max_indexes:\n",
    "    # 音声データBが出現する開始時間を計算（サンプル数から秒単位に変換）\n",
    "    start_time = idx / sr_a\n",
    "    # 音声データBが出現する終了時間を計算（開始時間に音声データBの長さを加算）\n",
    "    end_time = start_time + (len_b / sr_a)\n",
    "    print(str(correlation[idx]) + ', ' + str(start_time) + ' : ' + str(end_time))\n",
    "    start_times.append(start_time)\n",
    "\n",
    "# start_times_new = remove_close_values(start_times)\n",
    "# print('result: ' + str(start_times_new))\n"
   ]
  },
  {
   "cell_type": "code",
   "execution_count": 77,
   "metadata": {},
   "outputs": [
    {
     "data": {
      "text/plain": [
       "(array([82., 31., 55.,  0.,  0.,  0.,  0.,  0.,  0.,  0.]),\n",
       " array([300., 310., 320., 330., 340., 350., 360., 370., 380., 390., 400.],\n",
       "       dtype=float32),\n",
       " <BarContainer object of 10 artists>)"
      ]
     },
     "execution_count": 77,
     "metadata": {},
     "output_type": "execute_result"
    },
    {
     "data": {
      "image/png": "[encoded data removed]",
      "text/plain": [
       "<Figure size 432x288 with 1 Axes>"
      ]
     },
     "metadata": {
      "needs_background": "light"
     },
     "output_type": "display_data"
    }
   ],
   "source": [
    "plt.hist(correlation, range=[300, 400])"
   ]
  },
  {
   "cell_type": "code",
   "execution_count": 65,
   "metadata": {},
   "outputs": [
    {
     "name": "stdout",
     "output_type": "stream",
     "text": [
      "result: [2309.0066439909297]\n"
     ]
    }
   ],
   "source": [
    "start_times_new = remove_close_values(start_times)\n",
    "print('result: ' + str(start_times_new))"
   ]
  },
  {
   "cell_type": "code",
   "execution_count": 49,
   "metadata": {},
   "outputs": [
    {
     "name": "stdout",
     "output_type": "stream",
     "text": [
      "[(27.662479166666667, 33.66247916666667), (93.17714583333333, 99.17714583333333), (252.75047916666668, 258.75047916666665), (275.641125, 281.641125), (275.6411458333333, 281.6411458333333), (335.95047916666664, 341.95047916666664), (355.0438125, 361.0438125), (466.2331458333333, 472.2331458333333), (607.4598125, 613.4598125), (646.2438125, 652.2438125), (654.8624791666666, 660.8624791666666), (692.5584791666666, 698.5584791666666), (904.9104791666666, 910.9104791666666), (923.1718125, 929.1718125), (979.5558125, 985.5558125), (1039.2678125, 1045.2678125), (1163.4278125, 1169.4278125)]\n"
     ]
    }
   ],
   "source": [
    "segments = []\n",
    "\n",
    "for start_time in start_times:\n",
    "    segments.append((start_time-3, start_time+3))\n",
    "\n",
    "print(segments)"
   ]
  },
  {
   "cell_type": "code",
   "execution_count": 50,
   "metadata": {},
   "outputs": [
    {
     "name": "stdout",
     "output_type": "stream",
     "text": [
      "Moviepy - Building video output.mp4.\n",
      "MoviePy - Writing audio in outputTEMP_MPY_wvf_snd.mp4\n"
     ]
    },
    {
     "name": "stderr",
     "output_type": "stream",
     "text": [
      "                                                                     \r"
     ]
    },
    {
     "name": "stdout",
     "output_type": "stream",
     "text": [
      "MoviePy - Done.\n",
      "Moviepy - Writing video output.mp4\n",
      "\n"
     ]
    },
    {
     "name": "stderr",
     "output_type": "stream",
     "text": [
      "                                                                \r"
     ]
    },
    {
     "name": "stdout",
     "output_type": "stream",
     "text": [
      "Moviepy - Done !\n",
      "Moviepy - video ready output.mp4\n"
     ]
    }
   ],
   "source": [
    "from moviepy.editor import VideoFileClip, concatenate_videoclips\n",
    "\n",
    "def cut_video(input_file, output_file, segments):\n",
    "    clips = []\n",
    "    # enumerate(tqdm(segments, desc='Processing', unit='segment')):\n",
    "    for i, segment in enumerate(segments):\n",
    "        start_time = segment[0]\n",
    "        end_time = segment[1]\n",
    "        clip = VideoFileClip(input_file).subclip(start_time, end_time)\n",
    "        clips.append(clip)\n",
    "\n",
    "    final_clip = concatenate_videoclips(clips)\n",
    "    final_clip.write_videofile(output_file, audio_codec='aac')\n",
    "\n",
    "\n",
    "# 切り取りたい区間を指定します（開始時間と終了時間のペアのリスト）\n",
    "\n",
    "\n",
    "# 入力ファイルと出力ファイルのパスを指定します\n",
    "input_file = './videos/test_full_2.mp4'\n",
    "output_file = 'output.mp4'\n",
    "\n",
    "# 動画の切り取りと連結を実行します\n",
    "cut_video(input_file, output_file, segments)\n"
   ]
  },
  {
   "cell_type": "code",
   "execution_count": 9,
   "metadata": {},
   "outputs": [
    {
     "data": {
      "text/plain": [
       "(array([169., 181., 161., 122.,  68.,  36.,  25.,  21.,  12.,   2.,   3.,\n",
       "          0.,   2.,   1.,   1.,   3.,   1.,   5.,   2.,   1.,   1.,   0.,\n",
       "          0.,   1.,   0.,   0.,   0.,   0.,   0.,   0.]),\n",
       " array([ 600.,  620.,  640.,  660.,  680.,  700.,  720.,  740.,  760.,\n",
       "         780.,  800.,  820.,  840.,  860.,  880.,  900.,  920.,  940.,\n",
       "         960.,  980., 1000., 1020., 1040., 1060., 1080., 1100., 1120.,\n",
       "        1140., 1160., 1180., 1200.], dtype=float32),\n",
       " <BarContainer object of 30 artists>)"
      ]
     },
     "execution_count": 9,
     "metadata": {},
     "output_type": "execute_result"
    },
    {
     "data": {
      "image/png": "[encoded data removed]",
      "text/plain": [
       "<Figure size 864x576 with 1 Axes>"
      ]
     },
     "metadata": {},
     "output_type": "display_data"
    }
   ],
   "source": [
    "fig = plt.figure(figsize=(12, 8), facecolor='w', linewidth=0, edgecolor='w')\n",
    "plt.hist(cors, bins=30, range=(600, 1200))"
   ]
  },
  {
   "cell_type": "code",
   "execution_count": 56,
   "metadata": {},
   "outputs": [
    {
     "name": "stdout",
     "output_type": "stream",
     "text": [
      "6943083\n",
      "944.6054, 5.2250625 : 5.750854166666667\n",
      "1185.677, 5.225083333333333 : 5.750875\n",
      "944.5805, 5.225104166666667 : 5.750895833333334\n",
      "957.69916, 82.66508333333333 : 83.19087499999999\n"
     ]
    }
   ],
   "source": [
    "audio_path_a = './videos/audio_full.wav'\n",
    "audio_path_b = './videos/kill_audio_test_trim.wav'\n",
    "\n",
    "detect_audio_match(audio_path_a, audio_path_b)"
   ]
  },
  {
   "cell_type": "code",
   "execution_count": 35,
   "metadata": {},
   "outputs": [],
   "source": [
    "start_times = [30, 96, 255, 278, 338, 358, 469, 610, 649, 657, 695, 907, 1042, 1166]"
   ]
  },
  {
   "cell_type": "code",
   "execution_count": 42,
   "metadata": {},
   "outputs": [],
   "source": [
    "\n",
    "\n",
    "def trim_wav_segment(input_file, output_file, start_time, end_time):\n",
    "    # 入力ファイルをオープン\n",
    "    with wave.open(input_file, 'rb') as wav_in:\n",
    "        # 出力ファイルを作成\n",
    "        with wave.open(output_file, 'wb') as wav_out:\n",
    "            # 入力ファイルのパラメータを取得\n",
    "            channels = wav_in.getnchannels()\n",
    "            sample_width = wav_in.getsampwidth()\n",
    "            frame_rate = wav_in.getframerate()\n",
    "            total_frames = wav_in.getnframes()\n",
    "\n",
    "            # 開始位置と終了位置をフレーム単位に変換\n",
    "            start_frame = int(start_time * frame_rate)\n",
    "            end_frame = int(end_time * frame_rate)\n",
    "\n",
    "            # 出力ファイルのパラメータを設定\n",
    "            wav_out.setnchannels(channels)\n",
    "            wav_out.setsampwidth(sample_width)\n",
    "            wav_out.setframerate(frame_rate)\n",
    "\n",
    "            # 指定した範囲のデータを書き込む\n",
    "            wav_in.setpos(start_frame)\n",
    "            frames_to_write = end_frame - start_frame\n",
    "            wav_out.writeframes(wav_in.readframes(frames_to_write))\n",
    "\n",
    "# 使用例\n",
    "count = 0\n",
    "for start_time in start_times:\n",
    "    trim_wav_segment('./videos/test_full_2.wav', './test/output_' + str(count) + '.wav', start_time, start_time+1)\n",
    "    count += 1\n"
   ]
  },
  {
   "cell_type": "code",
   "execution_count": 15,
   "metadata": {},
   "outputs": [],
   "source": [
    "import wave\n",
    "import numpy as np\n",
    "import matplotlib.pyplot as plt\n",
    "import sounddevice as sd\n",
    "\n",
    "def plot_waveform(stream, file):\n",
    "    # Wavファイルを開く\n",
    "    wf = wave.open(file, 'rb')\n",
    "    \n",
    "    # サンプルレートとフレーム数を取得\n",
    "    sample_rate = wf.getframerate()\n",
    "    num_frames = wf.getnframes()\n",
    "\n",
    "    # フレームごとの時間を計算\n",
    "    frame_time = 1.0 / sample_rate\n",
    "\n",
    "    # プロットの初期化\n",
    "    plt.figure()\n",
    "\n",
    "    # 波形データを読み込む\n",
    "    data = wf.readframes(num_frames)\n",
    "    data = np.frombuffer(data, dtype=np.int16)\n",
    "\n",
    "    # 再生用のコールバック関数を定義\n",
    "    def callback(outdata, frames, time, status):\n",
    "        # 再生位置を取得\n",
    "        current_frame = stream.time * sample_rate\n",
    "\n",
    "        # 波形データの範囲を計算\n",
    "        start_frame = int(current_frame)\n",
    "        end_frame = int(current_frame + frames)\n",
    "        waveform = data[start_frame:end_frame]\n",
    "\n",
    "        # 波形をプロット\n",
    "        plt.clf()\n",
    "        plt.plot(np.arange(len(waveform)) * frame_time, waveform)\n",
    "        plt.xlabel('Time (s)')\n",
    "        plt.ylabel('Amplitude')\n",
    "        plt.title('Real-time Waveform')\n",
    "        plt.grid(True)\n",
    "        plt.ylim(-32768, 32767)\n",
    "        plt.xlim(0, frames * frame_time)\n",
    "        plt.pause(0.001)\n",
    "\n",
    "    # 再生ストリームを開始\n",
    "    stream.start()\n",
    "\n",
    "    # 再生が終わるまで待機\n",
    "    while stream.active:\n",
    "        plt.pause(0.1)\n",
    "\n",
    "    # 再生ストリームを停止\n",
    "    stream.stop()\n",
    "    stream.close()\n",
    "\n",
    "    # Wavファイルを閉じる\n",
    "    wf.close()\n",
    "\n",
    "\n"
   ]
  },
  {
   "cell_type": "code",
   "execution_count": 20,
   "metadata": {},
   "outputs": [
    {
     "ename": "KeyboardInterrupt",
     "evalue": "",
     "output_type": "error",
     "traceback": [
      "\u001b[0;31m---------------------------------------------------------------------------\u001b[0m",
      "\u001b[0;31mKeyboardInterrupt\u001b[0m                         Traceback (most recent call last)",
      "\u001b[0;32m<ipython-input-20-52102798352b>\u001b[0m in \u001b[0;36m<module>\u001b[0;34m\u001b[0m\n\u001b[1;32m     26\u001b[0m         \u001b[0mlines\u001b[0m\u001b[0;34m.\u001b[0m\u001b[0mset_data\u001b[0m\u001b[0;34m(\u001b[0m\u001b[0mx\u001b[0m\u001b[0;34m,\u001b[0m \u001b[0mdata\u001b[0m\u001b[0;34m)\u001b[0m\u001b[0;34m\u001b[0m\u001b[0;34m\u001b[0m\u001b[0m\n\u001b[1;32m     27\u001b[0m     \u001b[0;31m# リアルタイム描画したい場合\u001b[0m\u001b[0;34m\u001b[0m\u001b[0;34m\u001b[0m\u001b[0m\n\u001b[0;32m---> 28\u001b[0;31m     \u001b[0mplt\u001b[0m\u001b[0;34m.\u001b[0m\u001b[0mpause\u001b[0m\u001b[0;34m(\u001b[0m\u001b[0;36m.05\u001b[0m\u001b[0;34m)\u001b[0m\u001b[0;34m\u001b[0m\u001b[0;34m\u001b[0m\u001b[0m\n\u001b[0m",
      "\u001b[0;32m/Library/Frameworks/Python.framework/Versions/3.9/lib/python3.9/site-packages/matplotlib/pyplot.py\u001b[0m in \u001b[0;36mpause\u001b[0;34m(interval)\u001b[0m\n\u001b[1;32m    567\u001b[0m         \u001b[0mcanvas\u001b[0m\u001b[0;34m.\u001b[0m\u001b[0mstart_event_loop\u001b[0m\u001b[0;34m(\u001b[0m\u001b[0minterval\u001b[0m\u001b[0;34m)\u001b[0m\u001b[0;34m\u001b[0m\u001b[0;34m\u001b[0m\u001b[0m\n\u001b[1;32m    568\u001b[0m     \u001b[0;32melse\u001b[0m\u001b[0;34m:\u001b[0m\u001b[0;34m\u001b[0m\u001b[0;34m\u001b[0m\u001b[0m\n\u001b[0;32m--> 569\u001b[0;31m         \u001b[0mtime\u001b[0m\u001b[0;34m.\u001b[0m\u001b[0msleep\u001b[0m\u001b[0;34m(\u001b[0m\u001b[0minterval\u001b[0m\u001b[0;34m)\u001b[0m\u001b[0;34m\u001b[0m\u001b[0;34m\u001b[0m\u001b[0m\n\u001b[0m\u001b[1;32m    570\u001b[0m \u001b[0;34m\u001b[0m\u001b[0m\n\u001b[1;32m    571\u001b[0m \u001b[0;34m\u001b[0m\u001b[0m\n",
      "\u001b[0;31mKeyboardInterrupt\u001b[0m: "
     ]
    }
   ],
   "source": [
    "import pydub\n",
    "from pydub import AudioSegment\n",
    "\n",
    "\n",
    "song = AudioSegment.from_wav(\"./test/output2.wav\")\n",
    "song_array = np.array(song.get_array_of_samples())\n",
    "song_ch1 = song_array[::2]\n",
    "song_ch2 = song_array[1::2]\n",
    "\n",
    "wsize = 64\n",
    "\n",
    "fig, ax = plt.subplots(1, 1)\n",
    "vmax, vmin = 0, 0\n",
    "for index in range(song_ch1.shape[0]//wsize):\n",
    "    data = song_ch1[index*wsize: (index+1)*wsize]\n",
    "    x = np.arange(index*wsize, (index+1)*wsize)\n",
    "\n",
    "    vmax = max(vmax, data.max())\n",
    "    vmin = min(vmin, data.min())\n",
    "\n",
    "    ax.set_xlim((x.min(), x.max()))\n",
    "    ax.set_ylim((vmin, vmax))\n",
    "    if index == 0:\n",
    "        lines, = ax.plot(x, data)\n",
    "    else:\n",
    "        lines.set_data(x, data)\n",
    "    # リアルタイム描画したい場合\n",
    "    plt.pause(.05)  "
   ]
  },
  {
   "cell_type": "code",
   "execution_count": null,
   "metadata": {},
   "outputs": [],
   "source": []
  }
 ],
 "metadata": {
  "kernelspec": {
   "display_name": "Python 3",
   "language": "python",
   "name": "python3"
  },
  "language_info": {
   "codemirror_mode": {
    "name": "ipython",
    "version": 3
   },
   "file_extension": ".py",
   "mimetype": "text/x-python",
   "name": "python",
   "nbconvert_exporter": "python",
   "pygments_lexer": "ipython3",
   "version": "3.9.12"
  },
  "orig_nbformat": 4
 },
 "nbformat": 4,
 "nbformat_minor": 2
}
